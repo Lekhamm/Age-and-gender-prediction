{
 "cells": [
  {
   "cell_type": "code",
   "execution_count": 1,
   "id": "3ac8c30d",
   "metadata": {
    "_cell_guid": "b1076dfc-b9ad-4769-8c92-a6c4dae69d19",
    "_uuid": "8f2839f25d086af736a60e9eeb907d3b93b6e0e5",
    "execution": {
     "iopub.execute_input": "2024-04-14T12:49:06.933913Z",
     "iopub.status.busy": "2024-04-14T12:49:06.933433Z",
     "iopub.status.idle": "2024-04-14T12:49:25.447769Z",
     "shell.execute_reply": "2024-04-14T12:49:25.446474Z"
    },
    "papermill": {
     "duration": 18.524756,
     "end_time": "2024-04-14T12:49:25.451334",
     "exception": false,
     "start_time": "2024-04-14T12:49:06.926578",
     "status": "completed"
    },
    "tags": []
   },
   "outputs": [],
   "source": [
    "import pandas as pd\n",
    "from sklearn.model_selection import train_test_split\n",
    "from sklearn.preprocessing import LabelEncoder\n",
    "from tensorflow.keras.preprocessing.text import Tokenizer\n",
    "from tensorflow.keras.preprocessing.sequence import pad_sequences\n",
    "from tensorflow.keras.models import Sequential\n",
    "from tensorflow.keras.layers import Embedding, LSTM, Dense  # Change SimpleRNN to LSTM\n",
    "from tensorflow.keras.optimizers import Adam  # Import Adam optimizer"
   ]
  },
  {
   "cell_type": "code",
   "execution_count": 2,
   "id": "2d9f4f7c",
   "metadata": {
    "_cell_guid": "b1076dfc-b9ad-4769-8c92-a6c4dae69d19",
    "_uuid": "8f2839f25d086af736a60e9eeb907d3b93b6e0e5",
    "execution": {
     "iopub.execute_input": "2024-04-14T12:49:25.463247Z",
     "iopub.status.busy": "2024-04-14T12:49:25.462435Z",
     "iopub.status.idle": "2024-04-14T12:49:25.504668Z",
     "shell.execute_reply": "2024-04-14T12:49:25.503586Z"
    },
    "papermill": {
     "duration": 0.051098,
     "end_time": "2024-04-14T12:49:25.507263",
     "exception": false,
     "start_time": "2024-04-14T12:49:25.456165",
     "status": "completed"
    },
    "tags": []
   },
   "outputs": [],
   "source": [
    "# Load the dataset\n",
    "data = pd.read_csv('/kaggle/input/amazon-alexa-dataset/amazon_alexa.tsv',sep = '\\t') \n",
    "\n",
    "# Preprocess the data\n",
    "texts = data['verified_reviews'].astype(str)\n",
    "labels = data['feedback']"
   ]
  },
  {
   "cell_type": "code",
   "execution_count": 3,
   "id": "f9f11fcf",
   "metadata": {
    "_cell_guid": "b1076dfc-b9ad-4769-8c92-a6c4dae69d19",
    "_uuid": "8f2839f25d086af736a60e9eeb907d3b93b6e0e5",
    "execution": {
     "iopub.execute_input": "2024-04-14T12:49:25.517343Z",
     "iopub.status.busy": "2024-04-14T12:49:25.516678Z",
     "iopub.status.idle": "2024-04-14T12:49:25.530847Z",
     "shell.execute_reply": "2024-04-14T12:49:25.529413Z"
    },
    "papermill": {
     "duration": 0.022183,
     "end_time": "2024-04-14T12:49:25.533496",
     "exception": false,
     "start_time": "2024-04-14T12:49:25.511313",
     "status": "completed"
    },
    "tags": []
   },
   "outputs": [],
   "source": [
    "label_encoder = LabelEncoder()\n",
    "labels = label_encoder.fit_transform(labels)\n",
    "\n",
    "X_train, X_test, y_train, y_test = train_test_split(texts, labels, test_size=0.2, random_state=42)"
   ]
  },
  {
   "cell_type": "code",
   "execution_count": 4,
   "id": "dd889c25",
   "metadata": {
    "_cell_guid": "b1076dfc-b9ad-4769-8c92-a6c4dae69d19",
    "_uuid": "8f2839f25d086af736a60e9eeb907d3b93b6e0e5",
    "execution": {
     "iopub.execute_input": "2024-04-14T12:49:25.543938Z",
     "iopub.status.busy": "2024-04-14T12:49:25.543513Z",
     "iopub.status.idle": "2024-04-14T12:49:25.635284Z",
     "shell.execute_reply": "2024-04-14T12:49:25.633914Z"
    },
    "papermill": {
     "duration": 0.100561,
     "end_time": "2024-04-14T12:49:25.638294",
     "exception": false,
     "start_time": "2024-04-14T12:49:25.537733",
     "status": "completed"
    },
    "tags": []
   },
   "outputs": [],
   "source": [
    "max_words = 10000\n",
    "tokenizer = Tokenizer(num_words=max_words)\n",
    "tokenizer.fit_on_texts(X_train)"
   ]
  },
  {
   "cell_type": "code",
   "execution_count": 5,
   "id": "39df7beb",
   "metadata": {
    "_cell_guid": "b1076dfc-b9ad-4769-8c92-a6c4dae69d19",
    "_uuid": "8f2839f25d086af736a60e9eeb907d3b93b6e0e5",
    "execution": {
     "iopub.execute_input": "2024-04-14T12:49:25.648917Z",
     "iopub.status.busy": "2024-04-14T12:49:25.648496Z",
     "iopub.status.idle": "2024-04-14T12:49:25.730806Z",
     "shell.execute_reply": "2024-04-14T12:49:25.729578Z"
    },
    "papermill": {
     "duration": 0.090852,
     "end_time": "2024-04-14T12:49:25.733727",
     "exception": false,
     "start_time": "2024-04-14T12:49:25.642875",
     "status": "completed"
    },
    "tags": []
   },
   "outputs": [],
   "source": [
    "X_train_sequences = tokenizer.texts_to_sequences(X_train)\n",
    "X_test_sequences = tokenizer.texts_to_sequences(X_test)"
   ]
  },
  {
   "cell_type": "code",
   "execution_count": 6,
   "id": "c4403b3b",
   "metadata": {
    "_cell_guid": "b1076dfc-b9ad-4769-8c92-a6c4dae69d19",
    "_uuid": "8f2839f25d086af736a60e9eeb907d3b93b6e0e5",
    "execution": {
     "iopub.execute_input": "2024-04-14T12:49:25.744096Z",
     "iopub.status.busy": "2024-04-14T12:49:25.743486Z",
     "iopub.status.idle": "2024-04-14T12:49:25.762828Z",
     "shell.execute_reply": "2024-04-14T12:49:25.761765Z"
    },
    "papermill": {
     "duration": 0.027798,
     "end_time": "2024-04-14T12:49:25.765579",
     "exception": false,
     "start_time": "2024-04-14T12:49:25.737781",
     "status": "completed"
    },
    "tags": []
   },
   "outputs": [],
   "source": [
    "max_sequence_length = 100\n",
    "X_train_padded = pad_sequences(X_train_sequences, maxlen=max_sequence_length)\n",
    "X_test_padded = pad_sequences(X_test_sequences, maxlen=max_sequence_length)"
   ]
  },
  {
   "cell_type": "code",
   "execution_count": 7,
   "id": "cf935b9f",
   "metadata": {
    "_cell_guid": "b1076dfc-b9ad-4769-8c92-a6c4dae69d19",
    "_uuid": "8f2839f25d086af736a60e9eeb907d3b93b6e0e5",
    "execution": {
     "iopub.execute_input": "2024-04-14T12:49:25.775435Z",
     "iopub.status.busy": "2024-04-14T12:49:25.774993Z",
     "iopub.status.idle": "2024-04-14T12:49:26.120627Z",
     "shell.execute_reply": "2024-04-14T12:49:26.119425Z"
    },
    "papermill": {
     "duration": 0.353889,
     "end_time": "2024-04-14T12:49:26.123441",
     "exception": false,
     "start_time": "2024-04-14T12:49:25.769552",
     "status": "completed"
    },
    "tags": []
   },
   "outputs": [],
   "source": [
    "embedding_dim = 50\n",
    "model = Sequential()\n",
    "model.add(Embedding(input_dim=max_words, output_dim=embedding_dim, input_length=max_sequence_length))\n",
    "model.add(LSTM(units=64, activation='relu'))  # Change to LSTM\n",
    "model.add(Dense(units=1, activation='sigmoid'))"
   ]
  },
  {
   "cell_type": "code",
   "execution_count": 8,
   "id": "bd82c642",
   "metadata": {
    "_cell_guid": "b1076dfc-b9ad-4769-8c92-a6c4dae69d19",
    "_uuid": "8f2839f25d086af736a60e9eeb907d3b93b6e0e5",
    "execution": {
     "iopub.execute_input": "2024-04-14T12:49:26.133459Z",
     "iopub.status.busy": "2024-04-14T12:49:26.132992Z",
     "iopub.status.idle": "2024-04-14T12:49:26.153834Z",
     "shell.execute_reply": "2024-04-14T12:49:26.152758Z"
    },
    "papermill": {
     "duration": 0.028849,
     "end_time": "2024-04-14T12:49:26.156353",
     "exception": false,
     "start_time": "2024-04-14T12:49:26.127504",
     "status": "completed"
    },
    "tags": []
   },
   "outputs": [],
   "source": [
    "# Use Adam optimizer with a lower learning rate\n",
    "optimizer = Adam(learning_rate=0.001)\n",
    "model.compile(optimizer=optimizer, loss='binary_crossentropy', metrics=['accuracy'])"
   ]
  },
  {
   "cell_type": "code",
   "execution_count": 9,
   "id": "2931b58f",
   "metadata": {
    "_cell_guid": "b1076dfc-b9ad-4769-8c92-a6c4dae69d19",
    "_uuid": "8f2839f25d086af736a60e9eeb907d3b93b6e0e5",
    "execution": {
     "iopub.execute_input": "2024-04-14T12:49:26.166743Z",
     "iopub.status.busy": "2024-04-14T12:49:26.166293Z",
     "iopub.status.idle": "2024-04-14T12:49:43.298349Z",
     "shell.execute_reply": "2024-04-14T12:49:43.297174Z"
    },
    "papermill": {
     "duration": 17.140348,
     "end_time": "2024-04-14T12:49:43.300923",
     "exception": false,
     "start_time": "2024-04-14T12:49:26.160575",
     "status": "completed"
    },
    "tags": []
   },
   "outputs": [
    {
     "name": "stdout",
     "output_type": "stream",
     "text": [
      "Epoch 1/5\n",
      "63/63 [==============================] - 5s 52ms/step - loss: 4010173.0000 - accuracy: 0.8938 - val_loss: 0.3787 - val_accuracy: 0.9345\n",
      "Epoch 2/5\n",
      "63/63 [==============================] - 3s 47ms/step - loss: 0.4105 - accuracy: 0.9177 - val_loss: 0.4039 - val_accuracy: 0.9345\n",
      "Epoch 3/5\n",
      "63/63 [==============================] - 3s 48ms/step - loss: 0.3886 - accuracy: 0.9177 - val_loss: 0.3474 - val_accuracy: 0.9345\n",
      "Epoch 4/5\n",
      "63/63 [==============================] - 3s 46ms/step - loss: 0.3718 - accuracy: 0.9177 - val_loss: 0.3399 - val_accuracy: 0.9345\n",
      "Epoch 5/5\n",
      "63/63 [==============================] - 3s 45ms/step - loss: 69900728.0000 - accuracy: 0.9177 - val_loss: 0.5111 - val_accuracy: 0.9345\n"
     ]
    },
    {
     "data": {
      "text/plain": [
       "<keras.src.callbacks.History at 0x7cc4e4975210>"
      ]
     },
     "execution_count": 9,
     "metadata": {},
     "output_type": "execute_result"
    }
   ],
   "source": [
    "# Increase the number of epochs\n",
    "epochs = 5\n",
    "batch_size = 32\n",
    "model.fit(X_train_padded, y_train, epochs=epochs, batch_size=batch_size, validation_split=0.2)"
   ]
  },
  {
   "cell_type": "code",
   "execution_count": 10,
   "id": "65dfd765",
   "metadata": {
    "_cell_guid": "b1076dfc-b9ad-4769-8c92-a6c4dae69d19",
    "_uuid": "8f2839f25d086af736a60e9eeb907d3b93b6e0e5",
    "execution": {
     "iopub.execute_input": "2024-04-14T12:49:43.335124Z",
     "iopub.status.busy": "2024-04-14T12:49:43.334611Z",
     "iopub.status.idle": "2024-04-14T12:49:44.044929Z",
     "shell.execute_reply": "2024-04-14T12:49:44.042638Z"
    },
    "papermill": {
     "duration": 0.731593,
     "end_time": "2024-04-14T12:49:44.048499",
     "exception": false,
     "start_time": "2024-04-14T12:49:43.316906",
     "status": "completed"
    },
    "tags": []
   },
   "outputs": [
    {
     "name": "stdout",
     "output_type": "stream",
     "text": [
      "20/20 [==============================] - 0s 16ms/step - loss: 0.5229 - accuracy: 0.9079\n",
      "Test Loss: 0.5229305028915405, Test Accuracy: 0.9079365134239197\n"
     ]
    }
   ],
   "source": [
    "# Evaluate the model\n",
    "loss, accuracy = model.evaluate(X_test_padded, y_test)\n",
    "print(f\"Test Loss: {loss}, Test Accuracy: {accuracy}\")"
   ]
  },
  {
   "cell_type": "code",
   "execution_count": 11,
   "id": "2414d6e4",
   "metadata": {
    "_cell_guid": "b1076dfc-b9ad-4769-8c92-a6c4dae69d19",
    "_uuid": "8f2839f25d086af736a60e9eeb907d3b93b6e0e5",
    "execution": {
     "iopub.execute_input": "2024-04-14T12:49:44.084342Z",
     "iopub.status.busy": "2024-04-14T12:49:44.083846Z",
     "iopub.status.idle": "2024-04-14T12:49:44.091054Z",
     "shell.execute_reply": "2024-04-14T12:49:44.089460Z"
    },
    "papermill": {
     "duration": 0.028865,
     "end_time": "2024-04-14T12:49:44.094318",
     "exception": false,
     "start_time": "2024-04-14T12:49:44.065453",
     "status": "completed"
    },
    "tags": []
   },
   "outputs": [],
   "source": [
    "# Make predictions on new data\n",
    "new_data = [\"i love this product\"]\n",
    "new_data_sequences = tokenizer.texts_to_sequences(new_data)\n",
    "new_data_padded = pad_sequences(new_data_sequences, maxlen=max_sequence_length)"
   ]
  },
  {
   "cell_type": "code",
   "execution_count": 12,
   "id": "d25bb333",
   "metadata": {
    "_cell_guid": "b1076dfc-b9ad-4769-8c92-a6c4dae69d19",
    "_uuid": "8f2839f25d086af736a60e9eeb907d3b93b6e0e5",
    "execution": {
     "iopub.execute_input": "2024-04-14T12:49:44.129349Z",
     "iopub.status.busy": "2024-04-14T12:49:44.128904Z",
     "iopub.status.idle": "2024-04-14T12:49:44.448874Z",
     "shell.execute_reply": "2024-04-14T12:49:44.446639Z"
    },
    "papermill": {
     "duration": 0.341331,
     "end_time": "2024-04-14T12:49:44.452632",
     "exception": false,
     "start_time": "2024-04-14T12:49:44.111301",
     "status": "completed"
    },
    "tags": []
   },
   "outputs": [
    {
     "name": "stdout",
     "output_type": "stream",
     "text": [
      "1/1 [==============================] - 0s 249ms/step\n",
      "Predictions: [[0.620986]]\n"
     ]
    }
   ],
   "source": [
    "predictions = model.predict(new_data_padded)\n",
    "print(\"Predictions:\", predictions)"
   ]
  },
  {
   "cell_type": "code",
   "execution_count": null,
   "id": "a742f7c4",
   "metadata": {
    "papermill": {
     "duration": 0.018463,
     "end_time": "2024-04-14T12:49:44.488649",
     "exception": false,
     "start_time": "2024-04-14T12:49:44.470186",
     "status": "completed"
    },
    "tags": []
   },
   "outputs": [],
   "source": []
  }
 ],
 "metadata": {
  "kaggle": {
   "accelerator": "none",
   "dataSources": [
    {
     "datasetId": 4129163,
     "sourceId": 7151511,
     "sourceType": "datasetVersion"
    }
   ],
   "dockerImageVersionId": 30615,
   "isGpuEnabled": false,
   "isInternetEnabled": false,
   "language": "python",
   "sourceType": "notebook"
  },
  "kernelspec": {
   "display_name": "Python 3",
   "language": "python",
   "name": "python3"
  },
  "language_info": {
   "codemirror_mode": {
    "name": "ipython",
    "version": 3
   },
   "file_extension": ".py",
   "mimetype": "text/x-python",
   "name": "python",
   "nbconvert_exporter": "python",
   "pygments_lexer": "ipython3",
   "version": "3.10.12"
  },
  "papermill": {
   "default_parameters": {},
   "duration": 43.88181,
   "end_time": "2024-04-14T12:49:46.334444",
   "environment_variables": {},
   "exception": null,
   "input_path": "__notebook__.ipynb",
   "output_path": "__notebook__.ipynb",
   "parameters": {},
   "start_time": "2024-04-14T12:49:02.452634",
   "version": "2.4.0"
  }
 },
 "nbformat": 4,
 "nbformat_minor": 5
}
